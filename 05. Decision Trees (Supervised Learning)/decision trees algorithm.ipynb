{
 "cells": [
  {
   "cell_type": "markdown",
   "id": "5e4edebe-83c5-4715-a0ce-70b31cb7157c",
   "metadata": {},
   "source": [
    "# Decision Trees\r\n",
    "\r\n",
    "## Definition\r\n",
    "\r\n",
    "Decision Trees are a type of supervised learning algorithm that can be used for both classification and regression tasks, but are more commonly used for classification. They work by breaking down a dataset into smaller and smaller subsets based on different criteria, while at the same time an associated tree is incrementally developed. The final result is a tree with decision nodes and leaf nodes. A decision node has two or more branches, each representing values for the attribute tested. Leaf node represents a decision on the numerical target. The topmost decision node in a tree corresponds to the best predictor called root node. Decision trees handle both categorical and numerical data.\r\n",
    "\r\n",
    "The paths from root to leaf represent classification rules. One of the biggest advantages of decision trees is their interpretability – they are very easy to understand and interpret, and their decisions can be visualized.\r\n",
    "\r\n",
    "## Explanation in Layman's Terms\r\n",
    "\r\n",
    "Imagine you're trying to decide where to go on vacation. A decision tree is like a flowchart that helps you make this decision. It starts with a big question (like \"Do I want adventure or relaxation?\") and based on your answer, it takes you down a path to the next question, and so on. Each step of the way, you're narrowing down your options.\r\n",
    "\r\n",
    "For example, if you choose adventure, the next question might be \"Do I prefer hiking or surfing?\" Your choices continue to guide you down this tree until you reach a final decision (like choosing a mountain trip for hiking). \r\n",
    "\r\n",
    "In real-life data scenarios, a decision tree does something similar with data. It looks at the different characteristics (or 'features') of the data and makes a series of decisions to categorize or 'classify' the data into different groups. It's like having a roadmap that guides you through the data to help you understand how different decisions lead to different outcomes.\r\n"
   ]
  },
  {
   "cell_type": "code",
   "execution_count": 1,
   "id": "3163b62c-3549-45b2-b858-ec890b5d23c1",
   "metadata": {},
   "outputs": [
    {
     "name": "stdout",
     "output_type": "stream",
     "text": [
      "Object `twice` not found.\n"
     ]
    }
   ],
   "source": [
    "descioin tree on same data run twice??"
   ]
  },
  {
   "cell_type": "code",
   "execution_count": null,
   "id": "ec853ee0-07c9-4bd7-bb07-4451225c409b",
   "metadata": {},
   "outputs": [],
   "source": []
  }
 ],
 "metadata": {
  "kernelspec": {
   "display_name": "Python 3 (ipykernel)",
   "language": "python",
   "name": "python3"
  },
  "language_info": {
   "codemirror_mode": {
    "name": "ipython",
    "version": 3
   },
   "file_extension": ".py",
   "mimetype": "text/x-python",
   "name": "python",
   "nbconvert_exporter": "python",
   "pygments_lexer": "ipython3",
   "version": "3.11.6"
  }
 },
 "nbformat": 4,
 "nbformat_minor": 5
}
