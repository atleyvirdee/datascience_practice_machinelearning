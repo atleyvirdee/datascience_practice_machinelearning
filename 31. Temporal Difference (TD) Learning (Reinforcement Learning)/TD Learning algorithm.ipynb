{
 "cells": [
  {
   "cell_type": "markdown",
   "id": "ad4450e0-3c69-4fe7-9432-47773c183d7f",
   "metadata": {},
   "source": [
    "# Temporal Difference Learning\n",
    "\n",
    "## Definition\n",
    "\n",
    "Temporal Difference (TD) Learning is a reinforcement learning technique used in machine learning. It is a combination of Monte Carlo ideas and dynamic programming (DP) ideas. Like Monte Carlo methods, TD learning methods learn directly from raw experience without a model of the environment's dynamics. Like DP, TD learning methods update estimates based in part on other learned estimates, without waiting for a final outcome (they bootstrap). It is particularly useful in situations where an agent needs to make decisions without knowing the full outcome of those decisions in advance.\n",
    "\n",
    "## Explanation in Layman's Terms\n",
    "\n",
    "Imagine you're a chef who's trying to perfect a new recipe, but you're not sure how it will turn out until it's fully cooked. Instead of waiting for the final dish to be completed before learning whether your cooking methods or ingredient choices were correct, you taste and adjust throughout the cooking process.\n",
    "\n",
    "In Temporal Difference Learning, each taste test is akin to a step in the learning process. After adding an ingredient or trying a new cooking technique, you sample the dish (get feedback from the environment). Instead of waiting until the end to know if the dish is successful, you use these interim tastings to adjust your approach. If something tastes off, you immediately try to correct it, like adding a bit of salt if it’s too bland or a bit of sugar if it's too acidic.\n",
    "\n",
    "This ongoing adjustment process is similar to how TD Learning works. It learns from the experience at each step, updating its strategy incrementally rather than waiting for the final outcome. This way, the learning happens throughout the process, making adjustments based on the current state and the feedback received, gradually improving the approach (recipe) over time.\n"
   ]
  },
  {
   "cell_type": "code",
   "execution_count": null,
   "id": "7417609f-8d96-446f-b470-b0c6f5ec8d8b",
   "metadata": {},
   "outputs": [],
   "source": []
  }
 ],
 "metadata": {
  "kernelspec": {
   "display_name": "Python 3 (ipykernel)",
   "language": "python",
   "name": "python3"
  },
  "language_info": {
   "codemirror_mode": {
    "name": "ipython",
    "version": 3
   },
   "file_extension": ".py",
   "mimetype": "text/x-python",
   "name": "python",
   "nbconvert_exporter": "python",
   "pygments_lexer": "ipython3",
   "version": "3.11.6"
  }
 },
 "nbformat": 4,
 "nbformat_minor": 5
}
