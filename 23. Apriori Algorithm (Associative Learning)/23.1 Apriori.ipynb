{
 "cells": [
  {
   "cell_type": "markdown",
   "id": "19d219ce-40a8-4308-b73a-c445b5df53f7",
   "metadata": {},
   "source": [
    "# Apriori Algorithm\n",
    "\n",
    "## 1. Definition\n",
    "\n",
    "The Apriori Algorithm is a classic algorithm used in data mining for learning association rules and discovering frequent itemsets in large databases. It's commonly used in market basket analysis to find items that are frequently bought together. The algorithm uses a \"bottom up\" approach, where frequent subsets are extended one item at a time (a step known as candidate generation), and groups of candidates are tested against the data. The algorithm terminates when no further successful extensions are found.\n",
    "\n",
    "## Explanation in Layman's Terms\n",
    "\n",
    "Imagine you're a chef planning a menu for a restaurant, and you want to figure out which dishes should be included based on the ingredients that are commonly used together. Your pantry (database) is filled with various ingredients (items), and your goal is to identify combinations that are popular among your past recipes (transactions).\n",
    "\n",
    "The Apriori Algorithm is like starting with one ingredient and gradually adding more to see what popular combinations emerge. For example, you start with tomatoes and notice that basil, mozzarella, and olive oil often accompany tomatoes in your recipes. This combination suggests a popular dish like a Caprese salad. \n",
    "\n",
    "As you continue, you might add another ingredient to this combination, like balsamic vinegar, and check if this new combination still appears frequently in your recipes. If it does, it suggests another popular dish variation. However, if you add an ingredient that doesn't fit well (like peanut butter with tomatoes and mozzarella), the combination will likely not be frequent in your recipes, and you discard this combination.\n",
    "\n",
    "Apriori helps you build up these ingredient combinations (itemsets) by checking the frequency of each new addition against your past recipes (database of transactions) to ensure that the final menu only includes dishes with combinations that are proven to be popular.\n"
   ]
  },
  {
   "cell_type": "markdown",
   "id": "654db53b-e7b6-4e21-a559-e5d2709fd1ba",
   "metadata": {},
   "source": [
    "## 2. History of Apriori Algorithm\n",
    "\n",
    "1. **Development and History**:\n",
    "\n",
    "- **Origins**: The Apriori Algorithm was developed by Rakesh Agrawal and Ramakrishnan Srikant in 1994.\n",
    "- **Purpose**: Introduced as a method for mining frequent itemsets for boolean association rules. Apriori is pivotal in the field of data mining, specifically designed to operate on databases containing transactions (such as purchases at a supermarket). It aims to find sets of items that frequently occur together in transactions.\n",
    "\n",
    "2. **Name Origin**: The name comes from the algorithm's use of prior knowledge of frequent itemset properties. The algorithm assumes that any subset of a frequent itemset must be frequent (its so-called \"apriori\" property). This principle reduces the search space significantly by enabling the algorithm to iteratively identify larger frequent itemsets based on the knowledge gained in previous steps.The term \"Apriori\" aptly describes the algorithm's methodology: utilizing prior information about the frequency of itemsets within a database to efficiently identify the most common associations or patterns, facilitating the discovery of meaningful relationships in large data sets.\n"
   ]
  },
  {
   "cell_type": "code",
   "execution_count": null,
   "id": "0f5a9a0d-7911-422f-b173-3dff3bbc4a6d",
   "metadata": {},
   "outputs": [],
   "source": []
  }
 ],
 "metadata": {
  "kernelspec": {
   "display_name": "Python 3 (ipykernel)",
   "language": "python",
   "name": "python3"
  },
  "language_info": {
   "codemirror_mode": {
    "name": "ipython",
    "version": 3
   },
   "file_extension": ".py",
   "mimetype": "text/x-python",
   "name": "python",
   "nbconvert_exporter": "python",
   "pygments_lexer": "ipython3",
   "version": "3.11.6"
  }
 },
 "nbformat": 4,
 "nbformat_minor": 5
}
