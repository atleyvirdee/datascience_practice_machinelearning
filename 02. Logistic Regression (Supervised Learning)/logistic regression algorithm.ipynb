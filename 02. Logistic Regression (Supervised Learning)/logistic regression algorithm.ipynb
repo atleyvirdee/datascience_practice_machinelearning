{
 "cells": [
  {
   "cell_type": "markdown",
   "id": "8fd70414-184e-4cc8-a14c-7fab86cd1270",
   "metadata": {},
   "source": [
    "# Logistic Regression\n",
    "\n",
    "## 1. Overview\n",
    "\n",
    "Logistic Regression is a statistical method used in machine learning for **binary classification** problems. \n",
    "It's a type of regression analysis that is appropriate when the **dependent variable is categorical**. \n",
    "Logistic Regression estimates the probability that a given input point belongs to a certain class. The core concept is based on the logistic function, which is an S-shaped curve that can take any real-valued number and map it between 0 and 1, but never exactly at those limits. \n",
    "\n",
    "Mathematically, it models the probability of a default class (such as \"success\" or \"failure\") given a set of independent variables, using a logistic function. The output of logistic regression is a probability that the given input point belongs to a certain class, which is transformed into a binary outcome (0/1, Yes/No, True/False).\n",
    "\n",
    "## Explanation in Layman's Terms\n",
    "\n",
    "Imagine you're a doctor trying to determine whether a patient has a certain disease or not, based on their symptoms. Logistic Regression is like a sophisticated method that helps you in this decision-making process. \n",
    "\n",
    "Instead of just saying 'yes' or 'no' to whether the patient has the disease, Logistic Regression gives you a probability, like there's a 70% chance that the patient has the disease. It considers all the different symptoms (like fever, cough, etc.) and how they combine to affect the likelihood of the disease. \n",
    "\n",
    "This method is really useful because it deals with probabilities which give you a more nuanced understanding than a simple yes or no. It's like a more advanced and mathematically grounded way of making decisions based on various factors.\n"
   ]
  },
  {
   "cell_type": "markdown",
   "id": "059fe714-b02a-40ba-af09-c8600bc0778a",
   "metadata": {},
   "source": [
    "## 2. History of Logistic Regression\n",
    "\n",
    "The development of logistic regression was driven by the need for a model that could express categorical outcomes—especially binary outcomes—where linear regression fell short.\n",
    "\n",
    "### Origin and Evolution\n",
    "- **Early 20th Century**: The logistic regression model was initially introduced by statistician Ronald A. Fisher in the early 20th century, primarily for biological studies.\n",
    "- **Developed by David Cox**: The modern form of logistic regression, known as the logistic model, was further developed by David Roxbee Cox in 1958.\n",
    "- **Meaning**: \"Logistic\" comes from the logistic function used in this model, which models binary dependent variables.\n"
   ]
  },
  {
   "cell_type": "code",
   "execution_count": null,
   "id": "e4f081a4-4024-44f3-8bb6-354071d67cb2",
   "metadata": {},
   "outputs": [],
   "source": []
  }
 ],
 "metadata": {
  "kernelspec": {
   "display_name": "Python 3 (ipykernel)",
   "language": "python",
   "name": "python3"
  },
  "language_info": {
   "codemirror_mode": {
    "name": "ipython",
    "version": 3
   },
   "file_extension": ".py",
   "mimetype": "text/x-python",
   "name": "python",
   "nbconvert_exporter": "python",
   "pygments_lexer": "ipython3",
   "version": "3.11.6"
  }
 },
 "nbformat": 4,
 "nbformat_minor": 5
}
