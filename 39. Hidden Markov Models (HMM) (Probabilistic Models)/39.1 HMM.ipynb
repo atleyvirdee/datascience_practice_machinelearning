{
 "cells": [
  {
   "cell_type": "markdown",
   "id": "9a565181-d6e9-4d31-8dbb-d1ccb6d87de0",
   "metadata": {},
   "source": [
    "# HMM (Hidden Markov Model) Algorithm\r\n",
    "\r\n",
    "## Definition\r\n",
    "\r\n",
    "The Hidden Markov Model (HMM) is a statistical model used to describe the evolution of observable events dependent on internal factors, which are not directly observable. It assumes that the system can be modeled as a Markov process with unknown parameters, and the challenge is to determine the hidden parameters from the observable parameters. The hidden states can be considered as the underlying process, while the observable events are the outcomes of the process. HMMs are widely used in various fields, such as speech recognition, natural language processing, and bioinformatics.\r\n",
    "\r\n",
    "## Explanation in Layman's Terms\r\n",
    "\r\n",
    "Imagine you're a chef trying to decode a secret family recipe based on the finished dish. You can taste the dish and identify the flavors, but you don't know the exact combination of ingredients and techniques used to create it.\r\n",
    "\r\n",
    "In this scenario, the final dish is like the observable events in an HMM. You can observe the outcome (the taste), but you can't directly see the cooking process (the hidden states) that led to this outcome. The Hidden Markov Model algorithm would be like a detective tool to help you figure out the possible sequence of cooking steps and ingredient combinations that might have been used.\r\n",
    "\r\n",
    "For instance, if you can taste tomatoes, garlic, and herbs, you might guess that one of the steps was to simmer these ingredients. If there's a smoky flavor, another step might have involved grilling or roasting. Using HMM, you analyze the flavors you can detect (observable events) and try to work backward to deduce the cooking process (hidden states).\r\n",
    "\r\n",
    "This method wouldn't give you an exact recipe, but it would help you understand the most likely steps and ingredients used, based on the evidence you can observe. Similarly, HMMs are used to decode or make educated guesses about hidden processes based on observable data in various applications.\r\n"
   ]
  },
  {
   "cell_type": "code",
   "execution_count": null,
   "id": "a081f702-8dab-48a3-9da4-c4c0e1c7e2d7",
   "metadata": {},
   "outputs": [],
   "source": []
  }
 ],
 "metadata": {
  "kernelspec": {
   "display_name": "Python 3 (ipykernel)",
   "language": "python",
   "name": "python3"
  },
  "language_info": {
   "codemirror_mode": {
    "name": "ipython",
    "version": 3
   },
   "file_extension": ".py",
   "mimetype": "text/x-python",
   "name": "python",
   "nbconvert_exporter": "python",
   "pygments_lexer": "ipython3",
   "version": "3.11.6"
  }
 },
 "nbformat": 4,
 "nbformat_minor": 5
}
