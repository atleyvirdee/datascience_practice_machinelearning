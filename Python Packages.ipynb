{
 "cells": [
  {
   "cell_type": "markdown",
   "id": "7d0ff4fe-0a9e-442d-8048-e49f49155949",
   "metadata": {},
   "source": [
    "ng process from data preprocessing to model evaluation.\r\n"
   ]
  },
  {
   "cell_type": "code",
   "execution_count": null,
   "id": "f2bbe812-72e9-45bc-b0b0-4f0b166094ae",
   "metadata": {},
   "outputs": [],
   "source": []
  }
 ],
 "metadata": {
  "kernelspec": {
   "display_name": "Python 3 (ipykernel)",
   "language": "python",
   "name": "python3"
  },
  "language_info": {
   "codemirror_mode": {
    "name": "ipython",
    "version": 3
   },
   "file_extension": ".py",
   "mimetype": "text/x-python",
   "name": "python",
   "nbconvert_exporter": "python",
   "pygments_lexer": "ipython3",
   "version": "3.11.6"
  }
 },
 "nbformat": 4,
 "nbformat_minor": 5
}
