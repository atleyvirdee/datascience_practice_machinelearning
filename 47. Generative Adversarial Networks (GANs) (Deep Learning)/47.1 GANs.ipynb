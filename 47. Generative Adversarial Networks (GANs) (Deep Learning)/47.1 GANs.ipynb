{
 "cells": [
  {
   "cell_type": "markdown",
   "id": "8631af8a-e1ab-447e-81dd-2d2aac379cee",
   "metadata": {},
   "source": [
    "# GANs (Generative Adversarial Networks)\n",
    "\n",
    "## Definition\n",
    "\n",
    "Generative Adversarial Networks (GANs) are a class of artificial intelligence algorithms used in unsupervised machine learning, implemented by a system of two neural networks contesting with each other in a game (hence, \"adversarial\"). These two networks are the Generator and the Discriminator. The Generator creates data that is as realistic as possible, and the Discriminator evaluates data for authenticity; it tries to distinguish between actual data and the data created by the Generator. This process leads to the generation of very high-quality, realistic data as the Generator learns to produce data that the Discriminator cannot distinguish from real data.\n",
    "\n",
    "## Explanation in Layman's Terms\n",
    "\n",
    "Imagine you're a chef in a culinary competition with another chef, where you both are trying to create the most innovative and delicious dish. In this scenario, you are the \"Generator,\" creating new dishes, and the other chef is the \"Discriminator,\" judging the quality and authenticity of your creations.\n",
    "\n",
    "As the competition begins, you start by preparing a dish. The other chef, with their expertise, tastes your dish and gives feedback, pointing out whether it seems like a genuine, high-quality creation or if it's lacking in some way. You take this feedback and use it to improve your next dish, learning from each critique to make your dishes more refined and convincing.\n",
    "\n",
    "As the rounds of competition progress, your skills at creating innovative and delicious dishes improve, as you're constantly learning from the feedback. At the same time, the other chef is also getting better at critiquing and distinguishing the quality of the dishes.\n",
    "\n",
    "This process is akin to how GANs work. The Generator (you) keeps improving its output (dishes) in an attempt to make them indistinguishable from the real, high-quality standard, while the Discriminator (the other chef) keeps getting better at judging the quality. This adversarial process eventually leads to the creation of highly sophisticated and authentic output, just as you end up creating top-notch, innovative dishes by the end of the competition.\n"
   ]
  },
  {
   "cell_type": "markdown",
   "id": "ef6ec5f8-2f14-4dbd-90a6-33a84669fd3b",
   "metadata": {},
   "source": [
    "## 2. History of Generative Adversarial Networks (GANs)\n",
    "\n",
    "1. **Development and History**:\n",
    "\n",
    "- **Origins**: GANs were introduced by Ian Goodfellow and others in 2014.\n",
    "- **Purpose**: GANs are a class of AI algorithms used in unsupervised machine learning, implemented by a system of two neural networks contesting with each other in a zero-sum game framework. They are widely used for generating realistic images, videos, and voice.\n",
    "- **Name Origin**: Consist of two networks, a generator and a discriminator, that are trained simultaneously in an adversarial process. The generator tries to produce data that is indistinguishable from real data, while the discriminator tries to differentiate between real and generated data.\n",
    "\n",
    "\n",
    "\n"
   ]
  },
  {
   "cell_type": "code",
   "execution_count": null,
   "id": "03cff227-0955-4cb8-a961-6cbf4089ac30",
   "metadata": {},
   "outputs": [],
   "source": []
  }
 ],
 "metadata": {
  "kernelspec": {
   "display_name": "Python 3 (ipykernel)",
   "language": "python",
   "name": "python3"
  },
  "language_info": {
   "codemirror_mode": {
    "name": "ipython",
    "version": 3
   },
   "file_extension": ".py",
   "mimetype": "text/x-python",
   "name": "python",
   "nbconvert_exporter": "python",
   "pygments_lexer": "ipython3",
   "version": "3.11.6"
  }
 },
 "nbformat": 4,
 "nbformat_minor": 5
}
