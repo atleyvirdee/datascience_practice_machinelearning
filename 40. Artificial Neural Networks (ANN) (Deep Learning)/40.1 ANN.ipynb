{
 "cells": [
  {
   "cell_type": "markdown",
   "id": "faad98fb-33f0-431f-b41f-da5bfe438d9b",
   "metadata": {},
   "source": [
    "# ANN (Artificial Neural Network) Algorithm\n",
    "\n",
    "## Definition\n",
    "\n",
    "Artificial Neural Networks (ANNs) are computational models inspired by the human brain, used extensively in machine learning. They consist of interconnected groups of nodes, akin to the vast network of neurons in a human brain. ANNs are capable of learning from data, making them effective for tasks like image recognition, language processing, and complex decision-making. They adapt and improve their performance as they process more data, through a process known as training, where the network adjusts its internal parameters (weights) based on the input it receives and the output it generates.\n",
    "\n",
    "## Explanation in Layman's Terms\n",
    "\n",
    "Imagine you're a chef who wants to master an extensive range of international cuisines. You start with some basic cooking skills but need to learn and adapt your techniques to handle various dishes.\n",
    "\n",
    "Using an ANN in this scenario is like having a network of fellow chefs around the world, each with their expertise in different cuisines. Every time you attempt a new dish, you consult this network. The chefs give you feedback, and you adjust your technique based on their advice.\n",
    "\n",
    "As you continue to cook and learn, you start to remember which ingredients, techniques, and combinations work well together. This is like the 'training' in ANN, where each cooking experience is a data point that helps you refine your skills. Over time, just like an ANN, you become adept at recognizing patterns (like which spices are common in Indian cuisine or what cooking methods are used in Italian dishes).\n",
    "\n",
    "Your network of chefs (neural network) is always there to guide you. As you learn from more dishes (input data), your cooking skills (the ANN's performance) improve. You become more efficient at predicting which flavors will work together and how to best approach a new recipe, just like how an ANN becomes better at making predictions or classifications as it processes more data.\n"
   ]
  },
  {
   "cell_type": "code",
   "execution_count": null,
   "id": "bae55605-51cc-4625-b136-f257e3767f0e",
   "metadata": {},
   "outputs": [],
   "source": []
  }
 ],
 "metadata": {
  "kernelspec": {
   "display_name": "Python 3 (ipykernel)",
   "language": "python",
   "name": "python3"
  },
  "language_info": {
   "codemirror_mode": {
    "name": "ipython",
    "version": 3
   },
   "file_extension": ".py",
   "mimetype": "text/x-python",
   "name": "python",
   "nbconvert_exporter": "python",
   "pygments_lexer": "ipython3",
   "version": "3.11.6"
  }
 },
 "nbformat": 4,
 "nbformat_minor": 5
}
