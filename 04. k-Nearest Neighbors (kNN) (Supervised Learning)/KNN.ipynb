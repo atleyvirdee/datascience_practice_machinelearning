{
 "cells": [
  {
   "cell_type": "markdown",
   "id": "ac857c6b-53b5-4615-863c-4e45252e1742",
   "metadata": {},
   "source": [
    "# K-Nearest Neighbors (KNN) Algorithm\n",
    "\n",
    "## 1. Overview\n",
    "- **Introduction**: KNN is a simple, yet versatile algorithm used in classification and regression. It's a type of instance-based learning, or lazy learning, where the function is only approximated locally and all computation is deferred until function evaluation.\n",
    "- **Background**: Developed as a non-parametric method in statistics, KNN has been used in statistical estimation and pattern recognition from the beginning of the 1970s.\n",
    "\n"
   ]
  },
  {
   "cell_type": "markdown",
   "id": "e0f92e75-ed11-4bb9-baaa-eea9a01f6811",
   "metadata": {},
   "source": [
    "\n",
    "## 2. Use Cases of K-Nearest Neighbors (KNN) Algorithm\n",
    "\n",
    "K-Nearest Neighbors (KNN) is a versatile algorithm used for classification and regression. Below are some of the key use cases where KNN is effectively applied:\n",
    "\n",
    "### 1. Recommender Systems\n",
    "- **Description**: KNN can be used to recommend products or media to users by finding items similar to the user's previous preferences.\n",
    "- **Example**: Movie recommendation based on a user's past viewing history.\n",
    "\n",
    "### 2. Medical Diagnosis\n",
    "- **Description**: In healthcare, KNN is used for classifying patient health data to diagnose medical conditions.\n",
    "- **Example**: Identifying heart disease presence based on patient health metrics.\n",
    "\n",
    "### 3. Finance\n",
    "- **Description**: KNN can help in credit scoring by classifying loan applicants as low or high risk.\n",
    "- **Example**: Assessing creditworthiness of individuals based on financial history.\n",
    "\n",
    "### 4. Image Recognition\n",
    "- **Description**: KNN is used in computer vision for classifying images into different categories.\n",
    "- **Example**: Digit recognition in scanned handwritten documents.\n",
    "\n",
    "### 5. Sentiment Analysis\n",
    "- **Description**: In NLP, KNN can classify text data as positive, negative, or neutral sentiment.\n",
    "- **Example**: Analyzing customer reviews to gauge sentiment about products or services.\n",
    "\n",
    "### 6. Agriculture\n",
    "- **Description**: KNN assists in classifying crop health from aerial imagery.\n",
    "- **Example**: Identifying areas of a field that require attention based on drone-captured images.\n",
    "\n",
    "### 7. Fraud Detection\n",
    "- **Description**: In the banking sector, KNN can help identify unusual patterns that signify fraudulent activities.\n",
    "- **Example**: Detecting unusual credit card transactions as potential fraud.\n",
    "\n",
    "### 8. Market Segmentation\n",
    "- **Description**: KNN can group customers based on purchasing behavior and preferences.\n",
    "- **Example**: Segmenting customers for targeted marketing campaigns.\n",
    "\n",
    "### 9. Predictive Maintenance\n",
    "- **Description**: In manufacturing, KNN can predict machine failures by classifying equipment condition.\n",
    "- **Example**: Forecasting when industrial equipment might require maintenance.\n",
    "\n",
    "### 10. Sports Analysis\n",
    "- **Description**: KNN can be used in sports to classify players or teams based on performance metrics.\n",
    "- **Example**: Analyzing athlete performance data to inform training decisions.\n",
    "\n",
    "Each of these use cases demonstrates the flexibility of the KNN algorithm in handling different types of data and solving a wide range of problems across various domains.\n",
    "\n"
   ]
  },
  {
   "cell_type": "markdown",
   "id": "76a4cb19-21ac-48a8-b5d5-bc368eb7312d",
   "metadata": {},
   "source": [
    "## 3. Problem Statement\n",
    "- **Classification**: Classifies a data point based on how its neighbors are classified.\n",
    "- **Regression**: Predicts the output based on the average of the values of its k-nearest neighbors.\n",
    "\n",
    "\n",
    "\n"
   ]
  },
  {
   "cell_type": "markdown",
   "id": "d52ec2c5-e38a-42aa-ad80-6cab6ed39dc3",
   "metadata": {},
   "source": [
    "## 4. Algorithm Description\n",
    "- **Basic Concept**: KNN works by finding the distances between a query and all the examples in the data, selecting the specified number of examples (K) closest to the query, then votes for the most frequent label (in the case of classification) or averages the labels (in the case of regression).\n",
    "\n",
    "### 1. Concept\n",
    "- **Type**: Instance-based learning (or lazy learning).\n",
    "- **Function**: Classifies a new data point based on the majority class among its 'k' nearest neighbors.\n",
    "- **Application**: Used for both classification (categorizing data) and regression (predicting continuous values).\n",
    "\n",
    "### 2. How It Works\n",
    "- **Step 1**: Choose the number 'k' of neighbors.\n",
    "- **Step 2**: Calculate the distance between the new data point and all other points in the dataset.\n",
    "- **Step 3**: Sort the distances and select the 'k' nearest data points.\n",
    "- **Step 4 (Classification)**: Determine the most frequent class among the 'k' neighbors and assign that class to the new data point.\n",
    "- **Step 4 (Regression)**: Calculate the average of the values of the 'k' neighbors and assign this average as the value for the new data point.\n",
    "\n",
    "### 3. Distance Metrics\n",
    "The common distance metrics used are Euclidean, Manhattan, and Hamming distance.\n",
    "- **Euclidean Distance**: Most common, used for two-dimensional space.\n",
    "- **Manhattan Distance**: Used in urban grid-like path calculations.\n",
    "- **Hamming Distance**: Used for categorical data.\n",
    "\n",
    "### 4. Choosing 'k'\n",
    "- **Impact**: A small value of 'k' can be noisy and subject to the effects of outliers, while a large 'k' smoothens the boundaries but can blur the classification.\n",
    "- **Method**: Often chosen via cross-validation.\n",
    "\n",
    "\n",
    "KNN's simplicity makes it a great starting point for classification and regression tasks, particularly when the dataset is not overly large or complex.\n"
   ]
  },
  {
   "cell_type": "markdown",
   "id": "eef85bf4-cfd2-407c-b2cd-92f652c75114",
   "metadata": {},
   "source": [
    "## 5. Mathematical Foundation\n",
    "\n",
    "K-Nearest Neighbors (KNN) relies heavily on the distance formula for identifying nearest neighbors and the choice of 'K' for the accuracy of its predictions. Here's an in-depth look at both:\n",
    "\n",
    "### Distance Formula\n",
    "The distance formula in KNN is used to calculate the similarity between data points. The most commonly used distance measures are:\n",
    "\n",
    "1. **Euclidean Distance**\n",
    "   - **Formula**: The Euclidean distance between two points `x` and `y` in an N-dimensional space is given by:\n",
    "     ```\n",
    "     d(x, y) = sqrt(sum((x_i - y_i)^2))\n",
    "     ```\n",
    "   - **Description**: This is the most common form of distance measurement. It's the straight line distance between two points in Euclidean space.\n",
    "\n",
    "2. **Manhattan Distance**\n",
    "   - **Formula**: The Manhattan distance between two points `x` and `y` is given by:\n",
    "     ```\n",
    "     d(x, y) = sum(|x_i - y_i|)\n",
    "     ```\n",
    "   - **Description**: Also known as city block distance. It's the sum of the absolute differences of their Cartesian coordinates.\n",
    "\n",
    "3. **Hamming Distance**\n",
    "   - **Formula**: The Hamming distance between two strings of equal length is the number of positions at which the corresponding symbols are different.\n",
    "   - **Description**: Mainly used for categorical data. It's useful when the goal is to compare two data points in terms of whether the features are identical or not, rather than the magnitude of their differences.\n",
    "\n",
    "### Choosing 'K'\n",
    "The choice of 'K' in KNN is crucial and can significantly impact the performance of the algorithm:\n",
    "\n",
    "1. **Effect on Bias-Variance Tradeoff**:\n",
    "   - **Small 'K'**: A smaller value of 'K' makes the model more sensitive to noise in the training data, leading to higher variance and lower bias. It may capture too much noise in the data, leading to overfitting.\n",
    "   - **Large 'K'**: A larger value of 'K' averages more neighbors, leading to higher bias and lower variance. It may oversimplify the model, leading to underfitting.\n",
    "\n",
    "2. **Methods to Choose 'K'**:\n",
    "   - **Empirical Testing**: Often, the best way to choose 'K' is by trying out different values and using a validation set or cross-validation to evaluate performance.\n",
    "   - **Rule of Thumb**: Some practitioners use rules of thumb, like `sqrt(n)` where `n` is the number of samples in the training set.\n",
    "\n",
    "3. **Considerations**:\n",
    "   - **Dataset Size and Dimensionality**: The optimal value of 'K' depends on the size and nature of the data. Datasets with more noise usually require a larger 'K' to smooth out predictions.\n",
    "   - **Computational Cost**: Larger 'K' means more computation, as more neighbors need to be considered for each prediction.\n",
    "\n",
    "Choosing the right 'K' and distance metric is key to the successful application of the KNN algorithm.\n"
   ]
  },
  {
   "cell_type": "markdown",
   "id": "67a3d855-d40a-401e-b8f4-647e3a62b050",
   "metadata": {},
   "source": [
    "\n",
    "## 6. Key Parameters and Hyperparameters\n",
    "- **Number of Neighbors (K)**: The primary parameter for KNN. A small value of K means that noise will have a higher influence on the result, and a large value makes it computationally expensive.\n",
    "- **Distance Metric**: Choice of distance metric can significantly affect the algorithm's performance.\n"
   ]
  },
  {
   "cell_type": "markdown",
   "id": "e650d9c9-eebc-45a2-a4fc-7aef0ffdbccd",
   "metadata": {},
   "source": [
    "\n",
    "## 7. Algorithm Variants\n",
    "- **Weighted KNN**: Weights the contribution of each neighbor based on their distance to the query point.\n",
    "- **Radius-Based Nearest Neighbor Learning**: Uses a fixed radius to find neighbors, rather than a fixed number.\n",
    "\n"
   ]
  },
  {
   "cell_type": "markdown",
   "id": "01191e77-df2e-41d2-b021-181faf86f1ac",
   "metadata": {},
   "source": [
    "## 8. Strengths and Weaknesses\n",
    "- **Strengths**: Simple to understand and implement, no assumption about data, versatile for both classification and regression, no need for training phase, works well with a small number of dimensions.\n",
    "- **Weaknesses**: Slow on large datasets, Does not work well with high dimensional data, sensitive to noisy data, scale of data and irrelevant features, computationally expensive as dataset grows."
   ]
  },
  {
   "cell_type": "markdown",
   "id": "d9f0613c-0c77-4829-be77-f30f6ca32699",
   "metadata": {},
   "source": [
    "\n",
    "## 9. Complexity Analysis\n",
    "- **Time Complexity**: Generally O(N*M), where N is the number of points and M is the number of dimensions.\n",
    "- **Space Complexity**: Requires storing the entire dataset, so it is O(N).\n"
   ]
  },
  {
   "cell_type": "markdown",
   "id": "54916f57-6368-47e2-8e24-e031ea3ec713",
   "metadata": {},
   "source": [
    "\n",
    "## 10. Practical Considerations\n",
    "- **Scaling**: KNN requires feature scaling since it relies on the distance between data points.\n",
    "- **Curse of Dimensionality**: Performance degrades with an increase in the number of dimensions.\n"
   ]
  },
  {
   "cell_type": "markdown",
   "id": "f66bcac9-8399-4d3b-a3d4-cb31fefadbe0",
   "metadata": {},
   "source": [
    "\n",
    "## 11. Comparisons with Other Algorithms\n",
    "- **Contrast with Decision Trees**: Unlike decision trees, KNN doesn't build a model but operates on the entire dataset.\n",
    "- **Comparison with SVM**: SVM is better for high-dimensional spaces.\n",
    "\n"
   ]
  },
  {
   "cell_type": "markdown",
   "id": "7a4c1192-3ead-4873-8b58-e606829e81b2",
   "metadata": {},
   "source": [
    "## 12. Implementation Tips\n",
    "- **Data Preprocessing**: Importance of normalizing or standardizing data.\n",
    "- **Choosing the Right K**: Techniques for selecting an appropriate K value, like cross-validation"
   ]
  }
 ],
 "metadata": {
  "kernelspec": {
   "display_name": "Python 3 (ipykernel)",
   "language": "python",
   "name": "python3"
  },
  "language_info": {
   "codemirror_mode": {
    "name": "ipython",
    "version": 3
   },
   "file_extension": ".py",
   "mimetype": "text/x-python",
   "name": "python",
   "nbconvert_exporter": "python",
   "pygments_lexer": "ipython3",
   "version": "3.11.6"
  }
 },
 "nbformat": 4,
 "nbformat_minor": 5
}
