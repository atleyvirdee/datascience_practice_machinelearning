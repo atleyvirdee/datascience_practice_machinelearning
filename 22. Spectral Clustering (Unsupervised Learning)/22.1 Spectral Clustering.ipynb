{
 "cells": [
  {
   "cell_type": "markdown",
   "id": "e1ba9666-9db4-49b0-bc8c-d66373d81376",
   "metadata": {},
   "source": [
    "# Spectral Clustering\n",
    "\n",
    "## Definition\n",
    "\n",
    "Spectral Clustering is a technique used in machine learning to group data that is connected but not necessarily compact or clustered within convex boundaries. It works by using the eigenvalues (spectrum) of similarity matrices to reduce dimensions, then applying a clustering algorithm like K-Means in this lower-dimensional space. It is particularly useful for identifying clusters based on the connectivity of the data points, making it a powerful tool for grouping data points that might not be obvious with traditional clustering methods.\n",
    "\n",
    "## Explanation in Layman's Terms\n",
    "\n",
    "Imagine you're planning a large dinner with a diverse group of people, and you want to organize seating arrangements so that everyone enjoys the evening. You know some guests get along well with each other due to common interests or backgrounds, but these groups aren't immediately obvious by just looking at them.\n",
    "\n",
    "Spectral Clustering is like a sophisticated way of understanding the hidden relationships and affinities between guests. First, you try to understand the relationships between everyone — who knows whom, and who shares interests with whom. This is like creating a map or network of connections among your guests.\n",
    "\n",
    "Then, instead of physically moving people around to see who fits best with whom, you use this map to find natural groups. It's like taking a step back and seeing patterns of connections emerge — clusters of people who are more interconnected with each other than with others in the room. You then use these patterns to arrange the seating, ensuring that everyone is seated near people they are most likely to enjoy spending time with.\n",
    "\n",
    "In data terms, Spectral Clustering first transforms the data into a form where these patterns of connectivity are more apparent (through eigenvalues and dimensionality reduction), and then it applies a clustering method to group the data based on these newly revealed patterns.\n"
   ]
  },
  {
   "cell_type": "code",
   "execution_count": null,
   "id": "7033befc-2551-454e-a8b9-0d7cdd707b55",
   "metadata": {},
   "outputs": [],
   "source": []
  }
 ],
 "metadata": {
  "kernelspec": {
   "display_name": "Python 3 (ipykernel)",
   "language": "python",
   "name": "python3"
  },
  "language_info": {
   "codemirror_mode": {
    "name": "ipython",
    "version": 3
   },
   "file_extension": ".py",
   "mimetype": "text/x-python",
   "name": "python",
   "nbconvert_exporter": "python",
   "pygments_lexer": "ipython3",
   "version": "3.11.6"
  }
 },
 "nbformat": 4,
 "nbformat_minor": 5
}
