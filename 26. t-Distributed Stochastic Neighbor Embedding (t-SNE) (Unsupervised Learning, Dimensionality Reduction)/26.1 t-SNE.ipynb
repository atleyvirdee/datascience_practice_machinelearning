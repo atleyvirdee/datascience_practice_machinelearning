{
 "cells": [
  {
   "cell_type": "markdown",
   "id": "58cb0de1-e2fa-4771-bda4-3a0131049ee7",
   "metadata": {},
   "source": [
    "# t-SNE (t-Distributed Stochastic Neighbor Embedding) Algorithm\n",
    "\n",
    "## 1. Definition\n",
    "\n",
    "t-SNE (t-Distributed Stochastic Neighbor Embedding) is a machine learning algorithm used mainly for the visualization of high-dimensional data. It works by converting similarities between data points to joint probabilities and then minimizing the Kullback–Leibler divergence between these joint probabilities in high-dimensional and low-dimensional space. This results in a map that reflects the original data’s structure in a lower dimension (usually 2D or 3D for visualization). t-SNE is particularly good at creating a map that reveals clusters or groups in the data, even if those groups were not apparent in the higher-dimensional space.\n",
    "\n",
    "## Explanation in Layman's Terms\n",
    "\n",
    "Imagine you’re a chef with a vast collection of recipes from all over the world, each with numerous ingredients, cooking techniques, and flavor profiles. You want to create a simplified map that groups these recipes into distinct cuisines based on their similarities, making it easier to navigate your collection.\n",
    "\n",
    "t-SNE is like a tool that helps you analyze all these complex recipes. It looks at each recipe and compares it with every other recipe based on ingredients and cooking methods. Then, it starts to arrange these recipes on a table (2D space). Recipes that are very similar to each other, say Italian pasta dishes, are placed close together, while those that are vastly different, like Japanese sushi, are placed far apart.\n",
    "\n",
    "As you continue this process, patterns start to emerge on the table. Closely grouped recipes represent a particular type of cuisine, and distances between groups reflect how different these cuisines are from each other. t-SNE has effectively taken a complex, multi-dimensional world of recipes and simplified it into a map that's easy to understand and visually navigate, revealing the hidden structure and relationships within your recipe collection.\n"
   ]
  },
  {
   "cell_type": "markdown",
   "id": "cd60c70c-7e7d-449b-b649-60f545f64669",
   "metadata": {},
   "source": [
    "## 2. History of t-SNE\n",
    "\n",
    "1. **Development and History**:\n",
    "\n",
    "- **Origins**: t-Distributed Stochastic Neighbor Embedding (t-SNE) was developed by Laurens van der Maaten and Geoffrey Hinton in 2008.\n",
    "- **Purpose**: The algorithm was created as a technique for dimensionality reduction, specifically designed to improve the visualization of high-dimensional data. It builds on the earlier Stochastic Neighbor Embedding (SNE) by introducing a t-distribution to model the distances in the low-dimensional space, which helps to alleviate the crowding problem and allows for a more effective visualization of clusters in the data.\n",
    "\n",
    "2. **Name Origin**:\n",
    "\n",
    "- **t-Distributed**: Indicates the use of the t-distribution (specifically, the Student's t-distribution) in the low-dimensional space to model the pairwise similarities between points, which helps to preserve the local structure of the data while allowing disparate clusters to be far apart in the reduced space.\n",
    "- **Stochastic Neighbor Embedding (SNE)**: Describes the original framework on which t-SNE improves. SNE uses a probabilistic approach to model each high-dimensional object by a two- or three-dimensional point in such a way that similar objects are modeled by nearby points and dissimilar objects are modeled by distant points with high probability. The term \"t-SNE\" succinctly captures the essence of the algorithm: a variant of Stochastic Neighbor Embedding that utilizes the t-distribution for modeling similarities in reduced dimensional space, aimed at enhancing the visualization of complex high-dimensional data.\n"
   ]
  },
  {
   "cell_type": "code",
   "execution_count": null,
   "id": "5111c618-8ed0-4b4f-ba47-c264126ff96f",
   "metadata": {},
   "outputs": [],
   "source": []
  }
 ],
 "metadata": {
  "kernelspec": {
   "display_name": "Python 3 (ipykernel)",
   "language": "python",
   "name": "python3"
  },
  "language_info": {
   "codemirror_mode": {
    "name": "ipython",
    "version": 3
   },
   "file_extension": ".py",
   "mimetype": "text/x-python",
   "name": "python",
   "nbconvert_exporter": "python",
   "pygments_lexer": "ipython3",
   "version": "3.11.6"
  }
 },
 "nbformat": 4,
 "nbformat_minor": 5
}
