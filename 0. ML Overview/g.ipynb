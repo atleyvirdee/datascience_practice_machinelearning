{
 "cells": [
  {
   "cell_type": "markdown",
   "id": "ab58a3c0-eb67-4df8-8fdd-7e513b70c3d8",
   "metadata": {},
   "source": [
    "Learning Rate\n",
    "Loss Function\n",
    "Bagging\n",
    "Boosting\n",
    "Stacking"
   ]
  },
  {
   "cell_type": "markdown",
   "id": "0978c90a-6aeb-422f-9a79-e470d9094876",
   "metadata": {},
   "source": [
    "* basic\n",
    "* laymen\n",
    "* list of similar algos\n",
    "* history of algo\n",
    "* intuition of algo\n",
    "* comparison to other algos\n",
    "* sample code\n",
    "* hyperparameters of this algo\n",
    "* evaluation of this algo"
   ]
  },
  {
   "cell_type": "code",
   "execution_count": null,
   "id": "a9518674-48aa-4e86-a57d-e4f7a03c9bcf",
   "metadata": {},
   "outputs": [],
   "source": []
  }
 ],
 "metadata": {
  "kernelspec": {
   "display_name": "Python 3 (ipykernel)",
   "language": "python",
   "name": "python3"
  },
  "language_info": {
   "codemirror_mode": {
    "name": "ipython",
    "version": 3
   },
   "file_extension": ".py",
   "mimetype": "text/x-python",
   "name": "python",
   "nbconvert_exporter": "python",
   "pygments_lexer": "ipython3",
   "version": "3.11.6"
  }
 },
 "nbformat": 4,
 "nbformat_minor": 5
}
