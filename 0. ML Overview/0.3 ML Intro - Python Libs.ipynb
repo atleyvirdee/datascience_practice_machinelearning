{
 "cells": [
  {
   "cell_type": "markdown",
   "id": "a071faf9-dff2-4da1-b93f-5c3791a84b2b",
   "metadata": {},
   "source": [
    "# Python Packages for Machine Learning\n",
    "\n",
    "Machine learning in Python is supported by a diverse array of packages, each providing specific tools and functionalities. This summary encapsulates the key packages and their primary uses in the realm of machine learning.\n",
    "\n",
    "#### Core Libraries\n",
    "\n",
    "1. **NumPy**\n",
    "   - **Description**: Fundamental package for scientific computing with Python.\n",
    "   - **Use in ML**: Crucial for handling numerical operations essential in machine learning.\n",
    "2. **Pandas**\n",
    "   - **Description**: Provides high-performance data structures and data analysis tools.\n",
    "   - **Use in ML**: Ideal for data manipulation and preprocessing, especially for tabular data.\n",
    "3. **Matplotlib**\n",
    "   - **Description**: A plotting library for Python and NumPy.\n",
    "   - **Use in ML**: Essential for visualizing data and model results.\n",
    "4. **Scikit-Learn**\n",
    "   - **Description**: Offers tools for data mining and data analysis.\n",
    "   - **Use in ML**: Provides a range of supervised and unsupervised learning algorithms.\n",
    "5. **SciPy**\n",
    "   - **Description**: Python library used for scientific and technical computing.\n",
    "   - **Use in ML**: Offers modules for optimization, statistics, and linear algebra.\n",
    "6. **StatsModels**\n",
    "   - **Description**: Useful for estimating statistical models and conducting statistical tests.\n",
    "   - **Use in ML**: Particularly good for linear models and time-series analysis.\n",
    "\n",
    "#### Deep Learning and Neural Networks\n",
    "\n",
    "1. **TensorFlow**\n",
    "   - **Description**: An end-to-end platform for machine learning.\n",
    "   - **Use in ML**: Known for deep learning; supports both traditional and complex models.\n",
    "2. **Keras**\n",
    "   - **Description**: A Python interface for artificial neural networks.\n",
    "   - **Use in ML**: Simplifies the creation of neural networks; works as an interface for TensorFlow.\n",
    "\n",
    "#### Visualization and Model Management\n",
    "\n",
    "1. **Seaborn**\n",
    "   - **Description**: Based on matplotlib; provides high-level interface for statistical graphics.\n",
    "   - **Use in ML**: Great for making complex plots from pandas DataFrames.\n",
    "2. **Joblib**\n",
    "   - **Description**: Provides lightweight pipelining in Python.\n",
    "   - **Use in ML**: Useful for saving and loading machine learning models efficiently.\n",
    "\n",
    "#### Additional Machine Learning Tools\n",
    "\n",
    "1. **PyTorch**\n",
    "   - **Description**: Known for its flexibility and dynamic computational graph.\n",
    "   - **Use in ML**: Widely used for deep learning research and applications.\n",
    "2. **XGBoost**\n",
    "   - **Description**: Stands for Extreme Gradient Boosting; efficient at large-scale machine learning.\n",
    "   - **Use in ML**: Excellent for regression, classification, and ranking problems.\n",
    "3. **LightGBM**\n",
    "   - **Description**: A gradient boosting framework designed for efficiency.\n",
    "   - **Use in ML**: Effective for large datasets and various ML tasks.\n",
    "4. **CatBoost**\n",
    "   - **Description**: Powerful for handling categorical data.\n",
    "   - **Use in ML**: Delivers state-of-the-art results for regression and classification.\n"
   ]
  }
 ],
 "metadata": {
  "kernelspec": {
   "display_name": "Python 3 (ipykernel)",
   "language": "python",
   "name": "python3"
  },
  "language_info": {
   "codemirror_mode": {
    "name": "ipython",
    "version": 3
   },
   "file_extension": ".py",
   "mimetype": "text/x-python",
   "name": "python",
   "nbconvert_exporter": "python",
   "pygments_lexer": "ipython3",
   "version": "3.11.6"
  }
 },
 "nbformat": 4,
 "nbformat_minor": 5
}
