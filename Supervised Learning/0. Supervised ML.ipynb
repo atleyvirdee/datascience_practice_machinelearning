{
 "cells": [
  {
   "cell_type": "markdown",
   "id": "fe774b32-5845-436a-856d-41913e10987d",
   "metadata": {},
   "source": [
    "### Supervised Machine Learning\n",
    "\n",
    "Supervised Machine Learning involves training a model on a labeled dataset. This means the data you use to train the model includes both the input data and the correct output. The goal is for the model to learn to predict the output from the input data.\n",
    "\n",
    "#### Types of Problems:\n",
    "\n",
    "**Regression**: Predicting a continuous value (e.g., house prices).\n",
    "\n",
    "**Classification**: Predicting a category (e.g., spam or not spam in email filtering).\n",
    "\n",
    "#### Common Algorithms:\n",
    "\n",
    "* Linear Regression for regression problems\n",
    "* Logistic Regression for classification problems\n",
    "* Decision Trees\n",
    "* Support Vector Machines (SVM)\n",
    "* Neural Networks"
   ]
  },
  {
   "cell_type": "code",
   "execution_count": null,
   "id": "be23ad93-408a-4d1e-bab1-472a55028509",
   "metadata": {},
   "outputs": [],
   "source": []
  }
 ],
 "metadata": {
  "kernelspec": {
   "display_name": "Python 3 (ipykernel)",
   "language": "python",
   "name": "python3"
  },
  "language_info": {
   "codemirror_mode": {
    "name": "ipython",
    "version": 3
   },
   "file_extension": ".py",
   "mimetype": "text/x-python",
   "name": "python",
   "nbconvert_exporter": "python",
   "pygments_lexer": "ipython3",
   "version": "3.11.6"
  }
 },
 "nbformat": 4,
 "nbformat_minor": 5
}
