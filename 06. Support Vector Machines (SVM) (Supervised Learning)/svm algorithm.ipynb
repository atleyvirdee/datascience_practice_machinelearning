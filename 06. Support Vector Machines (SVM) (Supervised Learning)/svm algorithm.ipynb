{
 "cells": [
  {
   "cell_type": "markdown",
   "id": "59360299-19b1-4472-af08-f4f96ac09cf9",
   "metadata": {},
   "source": [
    "# Support Vector Machines (SVM)\n",
    "\n",
    "## Definition\n",
    "\n",
    "Support Vector Machines (SVM) are a set of supervised learning methods used for classification, regression, and outliers detection. The core idea of SVM is to find a hyperplane in an N-dimensional space (N — the number of features) that distinctly classifies the data points. To separate the two classes of data points, there are many possible hyperplanes that could be chosen. The goal is to find a plane that has the maximum margin, i.e., the maximum distance between data points of both classes. SVMs are effective in high dimensional spaces and are versatile as they can be used for both linear and non-linear classification, achieved by employing different kernel functions.\n",
    "\n",
    "The effectiveness of SVM depends on the selection of the kernel, the kernel's parameters, and the soft margin parameter C. The kernel types include linear, polynomial, radial basis function (RBF), and sigmoid.\n",
    "\n",
    "## Explanation in Layman's Terms\n",
    "\n",
    "Imagine you're at a party and you want to separate the kids from the adults. Think of SVM like a rope that you lay down on the floor to divide the two groups. This rope is like the hyperplane in SVM. Now, the trick is to place the rope in such a way that it maximizes the space (margin) on either side, ensuring that kids and adults are as far from the rope as possible to avoid any confusion.\n",
    "\n",
    "In more complex situations, like when the groups are mixed up in a way that a straight rope can’t separate them, SVM uses what we call a 'kernel trick'. This is like using a magic rope that can bend and twist in multiple dimensions to loop around the kids and separate them from the adults effectively. The SVM's ability to handle these complex scenarios makes it a powerful tool in machine learning for tasks like image recognition, where the patterns are often too complex for a straight line (or a simple rope) to separate.\n"
   ]
  },
  {
   "cell_type": "markdown",
   "id": "d168d60e-6ae1-4c14-95ff-22c8f5c25696",
   "metadata": {},
   "source": [
    "https://www.youtube.com/watch?v=efR1C6CvhmE"
   ]
  },
  {
   "cell_type": "code",
   "execution_count": null,
   "id": "b59afcad-1ff8-4e03-a773-8d68f7daaca5",
   "metadata": {},
   "outputs": [],
   "source": []
  }
 ],
 "metadata": {
  "kernelspec": {
   "display_name": "Python 3 (ipykernel)",
   "language": "python",
   "name": "python3"
  },
  "language_info": {
   "codemirror_mode": {
    "name": "ipython",
    "version": 3
   },
   "file_extension": ".py",
   "mimetype": "text/x-python",
   "name": "python",
   "nbconvert_exporter": "python",
   "pygments_lexer": "ipython3",
   "version": "3.11.6"
  }
 },
 "nbformat": 4,
 "nbformat_minor": 5
}
