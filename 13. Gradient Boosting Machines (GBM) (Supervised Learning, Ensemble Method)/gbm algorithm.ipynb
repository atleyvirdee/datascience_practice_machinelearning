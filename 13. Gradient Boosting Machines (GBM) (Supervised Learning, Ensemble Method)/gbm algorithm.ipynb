{
 "cells": [
  {
   "cell_type": "markdown",
   "id": "b791a1a5-f319-4197-80e0-be19bb974197",
   "metadata": {},
   "source": [
    "# Gradient Boosting Machines (GBM)\r\n",
    "\r\n",
    "## Definition\r\n",
    "\r\n",
    "Gradient Boosting Machines (GBM) are a group of machine learning algorithms that combine numerous weak predictive models, typically decision trees, to create a strong predictive model. GBM builds the model in a stage-wise fashion. In each stage, it introduces a new weak model that compensates the shortcomings of existing models. One key aspect of GBM is that it focuses on minimizing the loss, or the difference between the actual and predicted values, by adjusting the model with respect to the gradient of the loss function.\r\n",
    "\r\n",
    "## Explanation in Layman's Terms\r\n",
    "\r\n",
    "Imagine you are training a group of apprentice chefs to prepare a complex dish. The first chef attempts to make the dish but makes some mistakes. Instead of discarding their effort, you take their dish and analyze where it went wrong. The next chef will then focus on correcting these mistakes, improving upon the first chef's attempt. This process continues, with each subsequent chef focusing on refining and improving the dish based on the feedback from the previous attempts.\r\n",
    "\r\n",
    "In this scenario, each chef represents a weak model in the GBM process. The first chef's attempt is not perfect, but it's a starting point. Each following chef (model) learns from the previous one and focuses on correcting specific errors. The overall goal is to gradually improve the dish (model) with each attempt (iteration), with each chef (model) building upon the work of their predecessors. \r\n",
    "\r\n",
    "Just like in GBM, the process is iterative, and at each step, the focus is on the most significant errors from the previous step. Over time, the combined effort of all these chefs leads to a dish (predictive model) that is refined and well-tuned to be as delicious (accurate) as possible.\r\n"
   ]
  },
  {
   "cell_type": "code",
   "execution_count": null,
   "id": "c402b023-c7bd-4bf2-83eb-8b9cbd110d68",
   "metadata": {},
   "outputs": [],
   "source": []
  }
 ],
 "metadata": {
  "kernelspec": {
   "display_name": "Python 3 (ipykernel)",
   "language": "python",
   "name": "python3"
  },
  "language_info": {
   "codemirror_mode": {
    "name": "ipython",
    "version": 3
   },
   "file_extension": ".py",
   "mimetype": "text/x-python",
   "name": "python",
   "nbconvert_exporter": "python",
   "pygments_lexer": "ipython3",
   "version": "3.11.6"
  }
 },
 "nbformat": 4,
 "nbformat_minor": 5
}
