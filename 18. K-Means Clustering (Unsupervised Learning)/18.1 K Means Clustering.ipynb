{
 "cells": [
  {
   "cell_type": "markdown",
   "id": "32a5bcf6-282a-47ec-b300-952cbda0fc82",
   "metadata": {},
   "source": [
    "# K-Means Clustering\n",
    "\n",
    "## 1. Definition\n",
    "\n",
    "K-Means Clustering is an unsupervised learning algorithm used to group data into ‘K’ number of clusters. The basic idea is to define ‘K’ centroids, one for each cluster, and then allocate every data point to the nearest cluster, while keeping the centroids as small as possible. This is done by minimizing the sum of squares of distances between data and the corresponding cluster centroid. The algorithm iteratively assigns data points to one of the K clusters based on the features that are provided. The results are K clusters with a centroid for each cluster and input data categorized into these clusters.\n",
    "\n",
    "## Explanation in Layman's Terms\n",
    "\n",
    "Imagine you're a chef managing a large kitchen and you have a huge assortment of various ingredients (data points). You need to organize these ingredients in a way that makes your kitchen efficient. A logical approach would be to group similar ingredients together, like all spices in one section, all dairy products in another, and so on.\n",
    "\n",
    "K-Means Clustering is like this organizational process. You first decide the number of groups (‘K’ clusters) you want to create. For instance, you might decide on three groups: spices, dairy, and vegetables. Then, you start organizing (clustering) your ingredients. You place each ingredient in the group to which it's most similar, creating a ‘spice’ group, a ‘dairy’ group, and a ‘vegetable’ group. Over time, you might adjust the groups to make sure they make sense — maybe garlic fits better with vegetables than spices, for example.\n",
    "\n",
    "In data science, K-Means Clustering does the same thing. It groups data into clusters based on similarity. Initially, it guesses where the clusters should be (like you guessing how to initially group your ingredients) and then iteratively adjusts them. The 'centroid' in K-Means is like the ideal example or the heart of each group — in our kitchen, it would be like the quintessential spice, the most typical dairy product, and the vegetable that best represents that group.\n"
   ]
  },
  {
   "cell_type": "markdown",
   "id": "44d2e456-90f6-46e5-a7b3-d3653241ec8f",
   "metadata": {},
   "source": [
    "## 2.History of K-Means Clustering \n",
    "\n",
    "1. **Development and History**:\n",
    "- **Who & When**: Initially developed by Stuart Lloyd in 1957 at Bell Labs (published in 1982) and independently by James MacQueen in 1967.\n",
    "- **Purpose**: Designed for pulse-code modulation (Lloyd) and later applied to cluster analysis (MacQueen), aiming to partition observations into `k` clusters based on nearest means.\n",
    "\n",
    "2. **Name Origin**:\n",
    "- **K**: Indicates the number of clusters to be identified, a predetermined parameter.\n",
    "- **Means**: Refers to calculating the centroid or mean of data points within each cluster.\n",
    "- **Clustering**: Describes the algorithm's goal to group data points into distinct clusters based on similarity.\n",
    "\n",
    "The name \"K-Means Clustering\" succinctly encapsulates the algorithm's approach to grouping data into `k` clusters around calculated centroids.\n"
   ]
  },
  {
   "cell_type": "code",
   "execution_count": null,
   "id": "e1fd681f-dfad-4be5-bc81-87284b8f1c65",
   "metadata": {},
   "outputs": [],
   "source": []
  }
 ],
 "metadata": {
  "kernelspec": {
   "display_name": "Python 3 (ipykernel)",
   "language": "python",
   "name": "python3"
  },
  "language_info": {
   "codemirror_mode": {
    "name": "ipython",
    "version": 3
   },
   "file_extension": ".py",
   "mimetype": "text/x-python",
   "name": "python",
   "nbconvert_exporter": "python",
   "pygments_lexer": "ipython3",
   "version": "3.11.6"
  }
 },
 "nbformat": 4,
 "nbformat_minor": 5
}
