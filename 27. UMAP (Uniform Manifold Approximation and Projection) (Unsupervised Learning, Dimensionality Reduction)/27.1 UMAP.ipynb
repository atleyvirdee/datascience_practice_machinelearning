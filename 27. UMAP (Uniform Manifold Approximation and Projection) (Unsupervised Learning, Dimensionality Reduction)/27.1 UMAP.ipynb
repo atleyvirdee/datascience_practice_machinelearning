{
 "cells": [
  {
   "cell_type": "markdown",
   "id": "5bd08d3d-6e62-45f9-a8d4-16f750a26a7e",
   "metadata": {},
   "source": [
    "# UMAP (Uniform Manifold Approximation and Projection)\r\n",
    "\r\n",
    " #1. # Definition\r\n",
    "\r\n",
    "UMAP (Uniform Manifold Approximation and Projection) is a dimension reduction technique that can be used for visualization similarly to t-SNE, but it differs in that it maintains more of the global structure of the data. UMAP works on the principle of manifold learning and topological data analysis. It aims to project the data from a high-dimensional space to a lower-dimensional space (typically 2D or 3D for visualization) in a way that preserves both the local and global structure of the data as much as possible.\r\n",
    "\r\n",
    "## Explanation in Layman's Terms\r\n",
    "\r\n",
    "Imagine you're a chef tasked with creating a comprehensive cookbook that includes a wide variety of recipes from around the world. Each recipe has its own set of unique ingredients, cooking techniques, and cultural significance, making the entire collection extremely diverse and complex.\r\n",
    "\r\n",
    "Using UMAP in this scenario is like finding a way to organize this cookbook so that it's both easy to use and understand. You start by looking at each recipe and understanding its characteristics – the ingredients, the cuisine it belongs to, the cooking method, etc. Then, you begin to layout these recipes in a large hall, grouping similar recipes together.\r\n",
    "\r\n",
    "As you do this, you make sure that not only are similar recipes (like different types of pasta) close to each other, but also that entire cuisines or cooking styles (like Italian, Chinese, or grilling) are positioned in a way that makes sense in relation to each other. Italian dishes might be placed near other Mediterranean cuisines, highlighting both their similarities and distinctions.\r\n",
    "\r\n",
    "UMAP helps you in creating an arrangement where someone can easily find a specific recipe but also explore and understand the broader landscape of culinary styles and techniques. It's a balance between seeing the 'big picture' of global culinary traditions while still appreciating the unique details of individual recipes.\r\n"
   ]
  },
  {
   "cell_type": "markdown",
   "id": "7c83f689-f890-4a69-ba5d-3648f4bb6c8e",
   "metadata": {},
   "source": [
    "## 2. History of UMAP\n",
    "\n",
    "1. **Development and History**:\n",
    "\n",
    "- **Origins**: UMAP (Uniform Manifold Approximation and Projection) was developed by Leland McInnes, John Healy, and James Melville in 2018.\n",
    "- **Purpose**: Introduced as a novel manifold learning technique for dimensionality reduction, UMAP is particularly noted for its effectiveness in preserving both the local and global structure of data in lower-dimensional embeddings. It has been widely adopted for visualization of high-dimensional data, such as in bioinformatics and machine learning, due to its efficiency and scalability.\n",
    "\n",
    "2. **Name Origin**:\n",
    "\n",
    "- **Uniform Manifold Approximation**: Refers to the algorithm's mathematical foundation, which is based on a theoretical framework for manifold learning. This aspect of UMAP aims to approximate the manifold structure of high-dimensional data uniformly across all scales.\n",
    "- **Projection**: Indicates the process of mapping high-dimensional data to a lower-dimensional space. UMAP achieves this by optimizing the layout of data points in the lower-dimensional space in a way that reflects the structure of the data in the original high-dimensional space.\n",
    "\n",
    "The term \"UMAP\" succinctly captures the essence of the algorithm: utilizing uniform manifold approximation techniques for the projection of high-dimensional data into a lower-dimensional space, thereby preserving the intrinsic geometric structure of the data while facilitating its visualization and analysis.\n"
   ]
  },
  {
   "cell_type": "code",
   "execution_count": null,
   "id": "e1a7a6ff-2f68-4cb7-adbb-21096976ded9",
   "metadata": {},
   "outputs": [],
   "source": []
  }
 ],
 "metadata": {
  "kernelspec": {
   "display_name": "Python 3 (ipykernel)",
   "language": "python",
   "name": "python3"
  },
  "language_info": {
   "codemirror_mode": {
    "name": "ipython",
    "version": 3
   },
   "file_extension": ".py",
   "mimetype": "text/x-python",
   "name": "python",
   "nbconvert_exporter": "python",
   "pygments_lexer": "ipython3",
   "version": "3.11.6"
  }
 },
 "nbformat": 4,
 "nbformat_minor": 5
}
